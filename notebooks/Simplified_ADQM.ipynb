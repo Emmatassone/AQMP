{
 "cells": [
  {
   "cell_type": "markdown",
   "id": "065774e2-c48c-4923-817c-14467184ca93",
   "metadata": {},
   "source": [
    "## Example"
   ]
  },
  {
   "cell_type": "code",
   "execution_count": 1,
   "id": "7a082f36-640e-44fa-b5d0-113bdec520b7",
   "metadata": {
    "tags": []
   },
   "outputs": [],
   "source": [
    "from codec import *\n",
    "#Una opcion para estructurar el file codec es armar una clase \"Codec\"que tenga de metodos a \"encoder\" y a \"decoder\"\n",
    "# \"encoder\" y \"decoder\" comparten constantes que pueden ser atributos de la clase Codec.\n",
    "\n",
    "from rawfile import RawFile\n",
    "import warnings"
   ]
  },
  {
   "cell_type": "markdown",
   "id": "241d4ef8-f38c-4c35-a210-6c468c4fa001",
   "metadata": {
    "tags": []
   },
   "source": [
    "# Algorithm 1: Encoder\n"
   ]
  },
  {
   "cell_type": "code",
   "execution_count": 2,
   "id": "1706a73c-a228-4ca2-92af-7a59a69472da",
   "metadata": {
    "tags": []
   },
   "outputs": [
    {
     "name": "stdout",
     "output_type": "stream",
     "text": [
      "min_n = 8, max_n = 32\n",
      "Image Mode: YCbCr, Depth: 3, Width: 512, Height: 512\n",
      "Initializing omp_d[8] with matrix A of shape (64, 256)\n",
      "Initializing omp_d[16] with matrix A of shape (256, 256)\n",
      "Initializing omp_d[32] with matrix A of shape (1024, 256)\n",
      "A = [[ 1.          1.4142119   1.41420691 ...  0.          0.\n",
      "   0.        ]\n",
      " [ 1.          1.41421189  1.41420688 ...  0.          0.\n",
      "   0.        ]\n",
      " [ 1.          1.41421189  1.41420685 ...  0.          0.\n",
      "   0.        ]\n",
      " ...\n",
      " [ 1.          1.41419865  1.4141539  ...  0.          0.\n",
      "  -8.        ]\n",
      " [ 1.          1.41419863  1.41415382 ...  0.          0.\n",
      "  -8.        ]\n",
      " [ 1.          1.41419861  1.41415374 ...  0.          0.\n",
      "  -8.        ]]\n",
      "A.shape: (1024, 256), b.shape(1024,)\n",
      "A = [[ 1.          1.4142119   1.41420691 ...  0.          0.\n",
      "   0.        ]\n",
      " [ 1.          1.41421189  1.41420688 ...  0.          0.\n",
      "   0.        ]\n",
      " [ 1.          1.41421189  1.41420685 ...  0.          0.\n",
      "   0.        ]\n",
      " ...\n",
      " [ 1.          1.41419865  1.4141539  ...  0.          0.\n",
      "  -8.        ]\n",
      " [ 1.          1.41419863  1.41415382 ...  0.          0.\n",
      "  -8.        ]\n",
      " [ 1.          1.41419861  1.41415374 ...  0.          0.\n",
      "  -8.        ]]\n",
      "A.shape: (1024, 256), b.shape(1024,)\n",
      "A = [[ 1.          1.4142119   1.41420691 ...  0.          0.\n",
      "   0.        ]\n",
      " [ 1.          1.41421189  1.41420688 ...  0.          0.\n",
      "   0.        ]\n",
      " [ 1.          1.41421189  1.41420685 ...  0.          0.\n",
      "   0.        ]\n",
      " ...\n",
      " [ 1.          1.41419865  1.4141539  ...  0.          0.\n",
      "  -8.        ]\n",
      " [ 1.          1.41419863  1.41415382 ...  0.          0.\n",
      "  -8.        ]\n",
      " [ 1.          1.41419861  1.41415374 ...  0.          0.\n",
      "  -8.        ]]\n",
      "A.shape: (1024, 256), b.shape(1024,)\n",
      "bytes_written: 1978\n"
     ]
    }
   ],
   "source": [
    "input_file = '../images/lena.png' # file a comprimir\n",
    "output_file = 'path_to_output_file.fif' # path para archivo comprimido\n",
    "max_error = 0.1 \n",
    "basis_index = 0  # Example value for basis index\n",
    "\n",
    "with warnings.catch_warnings():\n",
    "    warnings.simplefilter(\"ignore\", RuntimeWarning)\n",
    "    code(input_file, output_file, max_error, basis_index)"
   ]
  },
  {
   "cell_type": "markdown",
   "id": "100a7009-6a92-454f-bb5d-903cd3a265d5",
   "metadata": {
    "tags": []
   },
   "source": [
    "# Algorithm 2: Decoder"
   ]
  },
  {
   "cell_type": "markdown",
   "id": "dc482489-ae26-48f3-a953-561851931895",
   "metadata": {},
   "source": [
    "<font color=\"red\">Input </font>: input_file, output_file  \n",
    "<font color=\"red\">Output </font>: decoded_image\n",
    "\n",
    "1. Open the raw file and read header with MAGIC_NUMBER, version, w, h, depth, A_id, bi, min_n, max_n\n",
    "2. Initialize image data matrix with zeros\n",
    "\n",
    "3. For each color channel (depth):\n",
    "   3.1 Decode the blocks using the OMP recursive decoder\n",
    "   3.2 Reconstruct the image from decoded blocks\n",
    "\n",
    "4. Convert YCbCr to RGB if needed\n",
    "5. Save the decoded image to output_file"
   ]
  },
  {
   "cell_type": "code",
   "execution_count": 3,
   "id": "5473c85b-707f-4ef3-a5e0-3ac42424b41c",
   "metadata": {
    "tags": []
   },
   "outputs": [
    {
     "name": "stdout",
     "output_type": "stream",
     "text": [
      "fmt = 3sBiiBBBBB\n",
      "size: 17\n",
      "data: b'FIF\\x02\\x00\\x00\\x02\\x00\\x00\\x00\\x02\\x00\\x03\\x00\\x00\\x08 '\n",
      "udata: (b'FIF', 2, 512, 512, 3, 0, 0, 8, 32)\n",
      "\n",
      "fmt = B\n",
      "size: 1\n",
      "data: b' '\n",
      "udata: (32,)\n",
      "\n",
      "fmt = B\n",
      "size: 1\n",
      "data: b'\\x83'\n",
      "udata: (131,)\n",
      "\n"
     ]
    },
    {
     "ename": "IndexError",
     "evalue": "string index out of range",
     "output_type": "error",
     "traceback": [
      "\u001b[0;31m---------------------------------------------------------------------------\u001b[0m",
      "\u001b[0;31mIndexError\u001b[0m                                Traceback (most recent call last)",
      "\u001b[0;32m/tmp/ipykernel_56269/3423166268.py\u001b[0m in \u001b[0;36m<module>\u001b[0;34m\u001b[0m\n\u001b[1;32m      2\u001b[0m \u001b[0moutput_file\u001b[0m \u001b[0;34m=\u001b[0m \u001b[0;34m'reconstructed_image.png'\u001b[0m\u001b[0;34m\u001b[0m\u001b[0;34m\u001b[0m\u001b[0m\n\u001b[1;32m      3\u001b[0m \u001b[0;34m\u001b[0m\u001b[0m\n\u001b[0;32m----> 4\u001b[0;31m \u001b[0mdecode\u001b[0m\u001b[0;34m(\u001b[0m\u001b[0minput_file\u001b[0m\u001b[0;34m,\u001b[0m \u001b[0moutput_file\u001b[0m\u001b[0;34m)\u001b[0m\u001b[0;34m\u001b[0m\u001b[0;34m\u001b[0m\u001b[0m\n\u001b[0m",
      "\u001b[0;32m~/Documents/proyectos/fif_codec/notebooks/codec.py\u001b[0m in \u001b[0;36mdecode\u001b[0;34m(input_file, output_file)\u001b[0m\n\u001b[1;32m    175\u001b[0m         \u001b[0;31m# Process image for each channel\u001b[0m\u001b[0;34m\u001b[0m\u001b[0;34m\u001b[0m\u001b[0;34m\u001b[0m\u001b[0m\n\u001b[1;32m    176\u001b[0m         \u001b[0;32mfor\u001b[0m \u001b[0mk\u001b[0m \u001b[0;32min\u001b[0m \u001b[0mrange\u001b[0m\u001b[0;34m(\u001b[0m\u001b[0mdepth\u001b[0m\u001b[0;34m)\u001b[0m\u001b[0;34m:\u001b[0m\u001b[0;34m\u001b[0m\u001b[0;34m\u001b[0m\u001b[0m\n\u001b[0;32m--> 177\u001b[0;31m             \u001b[0m_omp_decode\u001b[0m\u001b[0;34m(\u001b[0m\u001b[0mf\u001b[0m\u001b[0;34m,\u001b[0m \u001b[0mim_data\u001b[0m\u001b[0;34m[\u001b[0m\u001b[0;34m:\u001b[0m\u001b[0;34m,\u001b[0m \u001b[0;34m:\u001b[0m\u001b[0;34m,\u001b[0m \u001b[0mk\u001b[0m\u001b[0;34m]\u001b[0m\u001b[0;34m,\u001b[0m \u001b[0mbi\u001b[0m\u001b[0;34m,\u001b[0m \u001b[0mmaxN\u001b[0m\u001b[0;34m,\u001b[0m \u001b[0mminN\u001b[0m\u001b[0;34m,\u001b[0m \u001b[0mmaxN\u001b[0m\u001b[0;34m)\u001b[0m\u001b[0;34m\u001b[0m\u001b[0;34m\u001b[0m\u001b[0m\n\u001b[0m\u001b[1;32m    178\u001b[0m \u001b[0;34m\u001b[0m\u001b[0m\n\u001b[1;32m    179\u001b[0m         \u001b[0;32mif\u001b[0m \u001b[0mdepth\u001b[0m \u001b[0;34m==\u001b[0m \u001b[0;36m1\u001b[0m\u001b[0;34m:\u001b[0m\u001b[0;34m\u001b[0m\u001b[0;34m\u001b[0m\u001b[0m\n",
      "\u001b[0;32m~/Documents/proyectos/fif_codec/notebooks/codec.py\u001b[0m in \u001b[0;36m_omp_decode\u001b[0;34m(f, im_data, bi, N, minN, maxN)\u001b[0m\n\u001b[1;32m    147\u001b[0m \u001b[0;34m\u001b[0m\u001b[0m\n\u001b[1;32m    148\u001b[0m     \u001b[0;31m# Read the vector x from the file\u001b[0m\u001b[0;34m\u001b[0m\u001b[0;34m\u001b[0m\u001b[0;34m\u001b[0m\u001b[0m\n\u001b[0;32m--> 149\u001b[0;31m     \u001b[0mx\u001b[0m \u001b[0;34m=\u001b[0m \u001b[0mnp\u001b[0m\u001b[0;34m.\u001b[0m\u001b[0marray\u001b[0m\u001b[0;34m(\u001b[0m\u001b[0mread_vector\u001b[0m\u001b[0;34m(\u001b[0m\u001b[0mf\u001b[0m\u001b[0;34m,\u001b[0m \u001b[0mv_fmt\u001b[0m\u001b[0;34m)\u001b[0m\u001b[0;34m)\u001b[0m\u001b[0;34m\u001b[0m\u001b[0;34m\u001b[0m\u001b[0m\n\u001b[0m\u001b[1;32m    150\u001b[0m \u001b[0;34m\u001b[0m\u001b[0m\n\u001b[1;32m    151\u001b[0m     \u001b[0;31m# Compute the output vector b = A * x\u001b[0m\u001b[0;34m\u001b[0m\u001b[0;34m\u001b[0m\u001b[0;34m\u001b[0m\u001b[0m\n",
      "\u001b[0;32m~/Documents/proyectos/fif_codec/notebooks/codec.py\u001b[0m in \u001b[0;36mread_vector\u001b[0;34m(f, v_fmt)\u001b[0m\n\u001b[1;32m    136\u001b[0m \u001b[0;32mdef\u001b[0m \u001b[0mread_vector\u001b[0m\u001b[0;34m(\u001b[0m\u001b[0mf\u001b[0m\u001b[0;34m,\u001b[0m \u001b[0mv_fmt\u001b[0m\u001b[0;34m)\u001b[0m\u001b[0;34m:\u001b[0m\u001b[0;34m\u001b[0m\u001b[0;34m\u001b[0m\u001b[0m\n\u001b[1;32m    137\u001b[0m     \u001b[0;34m\"\"\"Read vector from file f with format v_fmt\"\"\"\u001b[0m\u001b[0;34m\u001b[0m\u001b[0;34m\u001b[0m\u001b[0m\n\u001b[0;32m--> 138\u001b[0;31m     \u001b[0mx\u001b[0m \u001b[0;34m=\u001b[0m \u001b[0mread_vector_as_pairs\u001b[0m\u001b[0;34m(\u001b[0m\u001b[0mf\u001b[0m\u001b[0;34m,\u001b[0m \u001b[0mv_fmt\u001b[0m\u001b[0;34m)\u001b[0m\u001b[0;34m\u001b[0m\u001b[0;34m\u001b[0m\u001b[0m\n\u001b[0m\u001b[1;32m    139\u001b[0m     \u001b[0mquantize_inv\u001b[0m\u001b[0;34m(\u001b[0m\u001b[0mx\u001b[0m\u001b[0;34m,\u001b[0m \u001b[0mv_fmt\u001b[0m\u001b[0;34m)\u001b[0m\u001b[0;34m\u001b[0m\u001b[0;34m\u001b[0m\u001b[0m\n\u001b[1;32m    140\u001b[0m     \u001b[0;32mreturn\u001b[0m \u001b[0mx\u001b[0m\u001b[0;34m\u001b[0m\u001b[0;34m\u001b[0m\u001b[0m\n",
      "\u001b[0;32m~/Documents/proyectos/fif_codec/notebooks/codec.py\u001b[0m in \u001b[0;36mread_vector_as_pairs\u001b[0;34m(f, v_fmt)\u001b[0m\n\u001b[1;32m    130\u001b[0m         \u001b[0;32mfor\u001b[0m \u001b[0mi\u001b[0m \u001b[0;32min\u001b[0m \u001b[0mrange\u001b[0m\u001b[0;34m(\u001b[0m\u001b[0mn0\u001b[0m\u001b[0;34m)\u001b[0m\u001b[0;34m:\u001b[0m\u001b[0;34m\u001b[0m\u001b[0;34m\u001b[0m\u001b[0m\n\u001b[1;32m    131\u001b[0m                 \u001b[0mpos\u001b[0m \u001b[0;34m=\u001b[0m \u001b[0mf\u001b[0m\u001b[0;34m.\u001b[0m\u001b[0mread\u001b[0m\u001b[0;34m(\u001b[0m\u001b[0mpos_fmt\u001b[0m\u001b[0;34m)\u001b[0m\u001b[0;34m\u001b[0m\u001b[0;34m\u001b[0m\u001b[0m\n\u001b[0;32m--> 132\u001b[0;31m                 \u001b[0mvalue\u001b[0m \u001b[0;34m=\u001b[0m \u001b[0mf\u001b[0m\u001b[0;34m.\u001b[0m\u001b[0mread\u001b[0m\u001b[0;34m(\u001b[0m\u001b[0mv_fmt\u001b[0m\u001b[0;34m[\u001b[0m\u001b[0mpos\u001b[0m\u001b[0;34m]\u001b[0m\u001b[0;34m)\u001b[0m\u001b[0;34m\u001b[0m\u001b[0;34m\u001b[0m\u001b[0m\n\u001b[0m\u001b[1;32m    133\u001b[0m                 \u001b[0mx\u001b[0m\u001b[0;34m[\u001b[0m\u001b[0mpos\u001b[0m\u001b[0;34m]\u001b[0m \u001b[0;34m=\u001b[0m \u001b[0mfloat\u001b[0m\u001b[0;34m(\u001b[0m\u001b[0mvalue\u001b[0m\u001b[0;34m)\u001b[0m\u001b[0;34m\u001b[0m\u001b[0;34m\u001b[0m\u001b[0m\n\u001b[1;32m    134\u001b[0m         \u001b[0;32mreturn\u001b[0m \u001b[0mx\u001b[0m\u001b[0;34m\u001b[0m\u001b[0;34m\u001b[0m\u001b[0m\n",
      "\u001b[0;31mIndexError\u001b[0m: string index out of range"
     ]
    }
   ],
   "source": [
    "input_file = 'path_to_output_file.fif'\n",
    "output_file = 'reconstructed_image.png'\n",
    "\n",
    "decode(input_file, output_file)"
   ]
  },
  {
   "cell_type": "code",
   "execution_count": null,
   "id": "a9ee147f-d9eb-4ab9-8a2a-b035034f4dba",
   "metadata": {},
   "outputs": [],
   "source": []
  },
  {
   "cell_type": "code",
   "execution_count": null,
   "id": "f3d46a2a-2c69-4638-aa55-53f49f3528eb",
   "metadata": {},
   "outputs": [],
   "source": []
  }
 ],
 "metadata": {
  "kernelspec": {
   "display_name": "Python 3 (ipykernel)",
   "language": "python",
   "name": "python3"
  },
  "language_info": {
   "codemirror_mode": {
    "name": "ipython",
    "version": 3
   },
   "file_extension": ".py",
   "mimetype": "text/x-python",
   "name": "python",
   "nbconvert_exporter": "python",
   "pygments_lexer": "ipython3",
   "version": "3.8.10"
  }
 },
 "nbformat": 4,
 "nbformat_minor": 5
}
