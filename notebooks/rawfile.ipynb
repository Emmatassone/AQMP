{
 "cells": [
  {
   "cell_type": "markdown",
   "id": "b3c03c93-85f4-4af6-8eef-c5cc9e4a50d2",
   "metadata": {},
   "source": [
    "# Demo de RawFile"
   ]
  },
  {
   "cell_type": "code",
   "execution_count": 1,
   "id": "ff873050-a4df-43ae-b19c-72f98501fa77",
   "metadata": {
    "tags": []
   },
   "outputs": [],
   "source": [
    "from rawfile import RawFile"
   ]
  },
  {
   "cell_type": "code",
   "execution_count": 5,
   "id": "39ba4271-d296-4e1b-bad6-515e489231b0",
   "metadata": {
    "tags": []
   },
   "outputs": [],
   "source": [
    "format_spec = \"f\"\n",
    "value = 1.23456789\n",
    "\n",
    "with RawFile(\"archive1.fif\",\"wb\") as f:\n",
    "    value_1 = float(f\"{value:{format_spec}}\")\n",
    "    value_2 = float(f\"{value+1:{format_spec}}\")\n",
    "    f.write(\"ff\", value_1, value_2)"
   ]
  },
  {
   "cell_type": "code",
   "execution_count": 6,
   "id": "d3b4d9bf-fec7-4fbb-ad9f-a1d3a647e259",
   "metadata": {
    "tags": []
   },
   "outputs": [
    {
     "name": "stdout",
     "output_type": "stream",
     "text": [
      "fmt = ff\n",
      "size 8\n",
      "data b'?\\x9e\\x06S@\\x0f\\x03*'\n",
      "udata (1.2345679998397827, 2.2345681190490723)\n"
     ]
    }
   ],
   "source": [
    "with RawFile(\"archive1.fif\", 'rb') as f:\n",
    "    read_var = f.read(\"ff\")"
   ]
  },
  {
   "cell_type": "code",
   "execution_count": 7,
   "id": "5df762c1-1206-46f5-b868-ef351657c373",
   "metadata": {
    "tags": []
   },
   "outputs": [
    {
     "name": "stdout",
     "output_type": "stream",
     "text": [
      "[1.2345679998397827, 2.2345681190490723]\n"
     ]
    }
   ],
   "source": [
    "print(read_var)"
   ]
  },
  {
   "cell_type": "code",
   "execution_count": null,
   "id": "38b831c5-3c73-4942-9eff-3378fe504dea",
   "metadata": {},
   "outputs": [],
   "source": []
  }
 ],
 "metadata": {
  "kernelspec": {
   "display_name": "Python 3 (ipykernel)",
   "language": "python",
   "name": "python3"
  },
  "language_info": {
   "codemirror_mode": {
    "name": "ipython",
    "version": 3
   },
   "file_extension": ".py",
   "mimetype": "text/x-python",
   "name": "python",
   "nbconvert_exporter": "python",
   "pygments_lexer": "ipython3",
   "version": "3.8.10"
  }
 },
 "nbformat": 4,
 "nbformat_minor": 5
}
