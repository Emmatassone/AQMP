{
 "cells": [
  {
   "cell_type": "markdown",
   "id": "fb6c7b68-4dc8-46b0-af48-71de6be9dc84",
   "metadata": {},
   "source": [
    "### Concatenation and Splitting Functions"
   ]
  },
  {
   "cell_type": "code",
   "execution_count": 6,
   "id": "ea8153f0-c3a1-414c-9ec0-1ad62e9ee484",
   "metadata": {
    "tags": []
   },
   "outputs": [],
   "source": [
    "import numpy as np\n",
    "\n",
    "# Concatenate columns of an array\n",
    "def concat_cols(A, B):\n",
    "    return np.concatenate((A, B), axis=1)\n",
    "\n",
    "# Concatenate rows of an array\n",
    "def concat_rows(A, B):\n",
    "    return np.concatenate((A, B), axis=0)\n",
    "\n",
    "# Split an array into columns\n",
    "def split_cols(A):\n",
    "    mid = A.shape[1] // 2\n",
    "    return A[:, :mid], A[:, mid:]\n",
    "\n",
    "# Split an array into rows\n",
    "def split_rows(A):\n",
    "    mid = A.shape[0] // 2\n",
    "    return A[:mid, :], A[mid:, :]\n"
   ]
  },
  {
   "cell_type": "markdown",
   "id": "81b4cdf3-deeb-4ea3-8882-4d549ffec0f8",
   "metadata": {},
   "source": [
    "### Transform Functions"
   ]
  },
  {
   "cell_type": "code",
   "execution_count": 7,
   "id": "845f19ea-c655-4e40-b3f4-b4f43ca352fe",
   "metadata": {
    "tags": []
   },
   "outputs": [],
   "source": [
    "import numpy as np\n",
    "import pywt\n",
    "from scipy.fftpack import dct, idct\n",
    "\n",
    "# Discrete Cosine Transform\n",
    "def DCT(A):\n",
    "    return dct(dct(A.T, norm='ortho').T, norm='ortho')\n",
    "\n",
    "# Inverse Discrete Cosine Transform\n",
    "def DCT_inv(A):\n",
    "    return idct(idct(A.T, norm='ortho').T, norm='ortho')\n",
    "\n",
    "def Haar(A):\n",
    "    # Perform the Haar transform and convert coefficients to array\n",
    "    coeffs = pywt.wavedecn(A, 'haar')\n",
    "    arr, coeff_slices = pywt.coeffs_to_array(coeffs)\n",
    "    return arr, coeff_slices\n",
    "\n",
    "def Haar_inv(arr, coeff_slices):\n",
    "    # Convert array back to coefficients and perform the inverse transform\n",
    "    coeffs = pywt.array_to_coeffs(arr, coeff_slices, output_format='wavedecn')\n",
    "    return pywt.waverecn(coeffs, 'haar')\n",
    "\n",
    "def DCT1_Haar1(A):\n",
    "    # Perform DCT and then Haar transform\n",
    "    dct_transformed = DCT(A)\n",
    "    haar_transformed, coeff_slices = Haar(dct_transformed)\n",
    "    return haar_transformed, coeff_slices\n",
    "\n",
    "def DCT1_Haar1_inv(A, coeff_slices):\n",
    "    # Perform inverse Haar and then inverse DCT\n",
    "    haar_inv_transformed = Haar_inv(A, coeff_slices)\n",
    "    return DCT_inv(haar_inv_transformed)\n"
   ]
  },
  {
   "cell_type": "markdown",
   "id": "34595b81-47e8-4945-bdcb-338cb767d4d1",
   "metadata": {},
   "source": [
    "### Compression and Decompression Functions"
   ]
  },
  {
   "cell_type": "code",
   "execution_count": 8,
   "id": "574c8cfa-f1de-4fa3-bc93-b2c220eaa053",
   "metadata": {
    "tags": []
   },
   "outputs": [],
   "source": [
    "import zlib\n",
    "import struct\n",
    "\n",
    "# Compress a float array using zlib\n",
    "def compress_float(array):\n",
    "    flat_array = array.flatten()\n",
    "    packed_data = pack(f'{len(flat_array)}f', *flat_array)\n",
    "    compressed_data = zlib.compress(packed_data)\n",
    "    return compressed_data\n",
    "\n",
    "# Decompress a float array using zlib\n",
    "def decompress_float(data):\n",
    "    decompressed_data = zlib.decompress(data)\n",
    "    array = np.array(unpack(f'{len(decompressed_data) // 4}f', decompressed_data), dtype=np.float32)\n",
    "    return array\n"
   ]
  },
  {
   "cell_type": "markdown",
   "id": "077711b3-602c-4294-a0a2-4c5dbd701754",
   "metadata": {},
   "source": [
    "### Code and decode functions"
   ]
  },
  {
   "cell_type": "code",
   "execution_count": 4,
   "id": "7f3ddc84-c48c-40bd-b32b-d727715922e9",
   "metadata": {},
   "outputs": [],
   "source": [
    "import numpy as np\n",
    "from PIL import Image\n",
    "import zlib\n",
    "from struct import pack, unpack\n",
    "\n",
    "# Define the paths for input and output files\n",
    "input_file = 'fif-codec/images/input/lena.png'\n",
    "encoded_file = 'encoded_lena.fif'\n",
    "\n",
    "def read_image(file_path):\n",
    "    img = Image.open(file_path)\n",
    "    img = img.convert('L')  # Convert to grayscale\n",
    "    return np.array(img, dtype=np.float32)\n",
    "\n",
    "def save_image(array, file_path):\n",
    "    img = Image.fromarray(array.astype(np.uint8))\n",
    "    img.save(file_path)\n",
    "\n",
    "def code(img_file, encoded_file, A_name, max_error, bi, callback=None, ssim_stop=False, min_n=8, max_n=32):\n",
    "    img = read_image(img_file)\n",
    "    H, W = img.shape\n",
    "    encoded_bytes = b\"\"\n",
    "    \n",
    "    if A_name == \"DCT\":\n",
    "        encoded_data = DCT(img)\n",
    "        coeff_slices = None\n",
    "    elif A_name == \"Haar\":\n",
    "        encoded_data, coeff_slices = Haar(img)\n",
    "    elif A_name == \"DCT1_Haar1\":\n",
    "        encoded_data, coeff_slices = DCT1_Haar1(img)\n",
    "    else:\n",
    "        raise ValueError(\"Unsupported basis function name\")\n",
    "    \n",
    "    compressed_data = compress_float(encoded_data)\n",
    "    encoded_bytes += pack('II', H, W)\n",
    "    \n",
    "    # Store number of coeff_slices only if A_name is \"DCT1_Haar1\"\n",
    "    if coeff_slices:\n",
    "        encoded_bytes += pack('I', len(coeff_slices))  # Store number of slices\n",
    "    encoded_bytes += compressed_data\n",
    "    \n",
    "    with open(encoded_file, 'wb') as f:\n",
    "        f.write(encoded_bytes)\n",
    "    return len(encoded_bytes)\n",
    "\n",
    "def decode(encoded_file, output_file, A_name):\n",
    "    with open(encoded_file, 'rb') as f:\n",
    "        H, W = unpack('II', f.read(8))\n",
    "        \n",
    "        # Read number of coeff_slices only if A_name is \"DCT1_Haar1\"\n",
    "        if A_name == \"DCT1_Haar1\":\n",
    "            num_slices = unpack('I', f.read(4))[0]\n",
    "            coeff_slices = [None] * num_slices\n",
    "        else:\n",
    "            coeff_slices = None\n",
    "        \n",
    "        compressed_data = f.read()\n",
    "    \n",
    "    encoded_data = decompress_float(compressed_data)\n",
    "    \n",
    "    if A_name == \"DCT\":\n",
    "        decoded_img = DCT_inv(encoded_data)\n",
    "    elif A_name == \"Haar\":\n",
    "        decoded_img = Haar_inv(encoded_data, None)\n",
    "    elif A_name == \"DCT1_Haar1\":\n",
    "        decoded_img = DCT1_Haar1_inv(encoded_data, coeff_slices)\n",
    "    else:\n",
    "        raise ValueError(\"Unsupported basis function name\")\n",
    "\n",
    "    save_image(decoded_img, output_file)"
   ]
  },
  {
   "cell_type": "markdown",
   "id": "02dd0385-c6f6-4fec-83c5-1cdb1f4e310e",
   "metadata": {
    "tags": []
   },
   "source": [
    "### Running code and decode functions"
   ]
  },
  {
   "cell_type": "code",
   "execution_count": 5,
   "id": "96a86b38-bd6b-410a-a381-619986af525c",
   "metadata": {
    "tags": []
   },
   "outputs": [
    {
     "name": "stdout",
     "output_type": "stream",
     "text": [
      "Encoding complete. Results: 975733\n"
     ]
    },
    {
     "ename": "AttributeError",
     "evalue": "'NoneType' object has no attribute 'items'",
     "output_type": "error",
     "traceback": [
      "\u001b[1;31m---------------------------------------------------------------------------\u001b[0m",
      "\u001b[1;31mAttributeError\u001b[0m                            Traceback (most recent call last)",
      "Cell \u001b[1;32mIn[5], line 20\u001b[0m\n\u001b[0;32m     17\u001b[0m \u001b[38;5;28mprint\u001b[39m(\u001b[38;5;124mf\u001b[39m\u001b[38;5;124m\"\u001b[39m\u001b[38;5;124mEncoding complete. Results: \u001b[39m\u001b[38;5;132;01m{\u001b[39;00mencoded_result\u001b[38;5;132;01m}\u001b[39;00m\u001b[38;5;124m\"\u001b[39m)\n\u001b[0;32m     19\u001b[0m \u001b[38;5;66;03m# Decoding the image\u001b[39;00m\n\u001b[1;32m---> 20\u001b[0m decode(encoded_file, decoded_file, A_name)  \u001b[38;5;66;03m# Pass A_name here\u001b[39;00m\n\u001b[0;32m     21\u001b[0m \u001b[38;5;28mprint\u001b[39m(\u001b[38;5;124mf\u001b[39m\u001b[38;5;124m\"\u001b[39m\u001b[38;5;124mDecoding complete. Output saved to \u001b[39m\u001b[38;5;132;01m{\u001b[39;00mdecoded_file\u001b[38;5;132;01m}\u001b[39;00m\u001b[38;5;124m\"\u001b[39m)\n",
      "Cell \u001b[1;32mIn[4], line 68\u001b[0m, in \u001b[0;36mdecode\u001b[1;34m(encoded_file, output_file, A_name)\u001b[0m\n\u001b[0;32m     66\u001b[0m     decoded_img \u001b[38;5;241m=\u001b[39m Haar_inv(encoded_data, \u001b[38;5;28;01mNone\u001b[39;00m)\n\u001b[0;32m     67\u001b[0m \u001b[38;5;28;01melif\u001b[39;00m A_name \u001b[38;5;241m==\u001b[39m \u001b[38;5;124m\"\u001b[39m\u001b[38;5;124mDCT1_Haar1\u001b[39m\u001b[38;5;124m\"\u001b[39m:\n\u001b[1;32m---> 68\u001b[0m     decoded_img \u001b[38;5;241m=\u001b[39m DCT1_Haar1_inv(encoded_data, coeff_slices)\n\u001b[0;32m     69\u001b[0m \u001b[38;5;28;01melse\u001b[39;00m:\n\u001b[0;32m     70\u001b[0m     \u001b[38;5;28;01mraise\u001b[39;00m \u001b[38;5;167;01mValueError\u001b[39;00m(\u001b[38;5;124m\"\u001b[39m\u001b[38;5;124mUnsupported basis function name\u001b[39m\u001b[38;5;124m\"\u001b[39m)\n",
      "Cell \u001b[1;32mIn[2], line 32\u001b[0m, in \u001b[0;36mDCT1_Haar1_inv\u001b[1;34m(A, coeff_slices)\u001b[0m\n\u001b[0;32m     30\u001b[0m \u001b[38;5;28;01mdef\u001b[39;00m \u001b[38;5;21mDCT1_Haar1_inv\u001b[39m(A, coeff_slices):\n\u001b[0;32m     31\u001b[0m     \u001b[38;5;66;03m# Perform inverse Haar and then inverse DCT\u001b[39;00m\n\u001b[1;32m---> 32\u001b[0m     haar_inv_transformed \u001b[38;5;241m=\u001b[39m Haar_inv(A, coeff_slices)\n\u001b[0;32m     33\u001b[0m     \u001b[38;5;28;01mreturn\u001b[39;00m DCT_inv(haar_inv_transformed)\n",
      "Cell \u001b[1;32mIn[2], line 21\u001b[0m, in \u001b[0;36mHaar_inv\u001b[1;34m(arr, coeff_slices)\u001b[0m\n\u001b[0;32m     19\u001b[0m \u001b[38;5;28;01mdef\u001b[39;00m \u001b[38;5;21mHaar_inv\u001b[39m(arr, coeff_slices):\n\u001b[0;32m     20\u001b[0m     \u001b[38;5;66;03m# Convert array back to coefficients and perform the inverse transform\u001b[39;00m\n\u001b[1;32m---> 21\u001b[0m     coeffs \u001b[38;5;241m=\u001b[39m pywt\u001b[38;5;241m.\u001b[39marray_to_coeffs(arr, coeff_slices, output_format\u001b[38;5;241m=\u001b[39m\u001b[38;5;124m'\u001b[39m\u001b[38;5;124mwavedecn\u001b[39m\u001b[38;5;124m'\u001b[39m)\n\u001b[0;32m     22\u001b[0m     \u001b[38;5;28;01mreturn\u001b[39;00m pywt\u001b[38;5;241m.\u001b[39mwaverecn(coeffs, \u001b[38;5;124m'\u001b[39m\u001b[38;5;124mhaar\u001b[39m\u001b[38;5;124m'\u001b[39m)\n",
      "File \u001b[1;32m~\\anaconda3\\Lib\\site-packages\\pywt\\_multilevel.py:881\u001b[0m, in \u001b[0;36marray_to_coeffs\u001b[1;34m(arr, coeff_slices, output_format)\u001b[0m\n\u001b[0;32m    879\u001b[0m \u001b[38;5;28;01melif\u001b[39;00m output_format \u001b[38;5;241m==\u001b[39m \u001b[38;5;124m'\u001b[39m\u001b[38;5;124mwavedecn\u001b[39m\u001b[38;5;124m'\u001b[39m:\n\u001b[0;32m    880\u001b[0m     d \u001b[38;5;241m=\u001b[39m {}\n\u001b[1;32m--> 881\u001b[0m     \u001b[38;5;28;01mfor\u001b[39;00m k, v \u001b[38;5;129;01min\u001b[39;00m coeff_slices[n]\u001b[38;5;241m.\u001b[39mitems():\n\u001b[0;32m    882\u001b[0m         d[k] \u001b[38;5;241m=\u001b[39m arr[v]\n\u001b[0;32m    883\u001b[0m \u001b[38;5;28;01melse\u001b[39;00m:\n",
      "\u001b[1;31mAttributeError\u001b[0m: 'NoneType' object has no attribute 'items'"
     ]
    }
   ],
   "source": [
    "# Define the paths for input and output files\n",
    "input_file = 'fif-codec/images/input/lena.png'\n",
    "encoded_file = 'encoded_lena.fif'\n",
    "decoded_file = 'decoded_lena.jpg'\n",
    "\n",
    "# Parameters for encoding\n",
    "A_name = \"DCT1_Haar1\"\n",
    "max_error = 1.0\n",
    "bi = 1  # Assuming bijection index 1 (concat_cols)\n",
    "callback = None\n",
    "ssim_stop = False\n",
    "min_n = 8\n",
    "max_n = 32\n",
    "\n",
    "# Encoding the image\n",
    "encoded_result = code(input_file, encoded_file, A_name, max_error, bi, callback, ssim_stop, min_n, max_n)\n",
    "print(f\"Encoding complete. Results: {encoded_result}\")\n",
    "\n",
    "# Decoding the image\n",
    "decode(encoded_file, decoded_file, A_name)  # Pass A_name here\n",
    "print(f\"Decoding complete. Output saved to {decoded_file}\")\n"
   ]
  },
  {
   "cell_type": "code",
   "execution_count": null,
   "id": "975ac6eb-6d5d-4b66-8053-f07b79d20030",
   "metadata": {},
   "outputs": [],
   "source": []
  },
  {
   "cell_type": "markdown",
   "id": "5911717a-cf55-466d-84c6-a99fb4c84a13",
   "metadata": {},
   "source": [
    "### Step by step code and decode functions"
   ]
  },
  {
   "cell_type": "code",
   "execution_count": 53,
   "id": "2e49b876-c7b0-483c-93eb-0815a010e021",
   "metadata": {
    "tags": []
   },
   "outputs": [
    {
     "name": "stdout",
     "output_type": "stream",
     "text": [
      "(512, 512)\n"
     ]
    }
   ],
   "source": [
    "import numpy as np\n",
    "from PIL import Image\n",
    "import zlib\n",
    "from struct import pack, unpack\n",
    "\n",
    "# Define the paths for input and output files\n",
    "input_file = 'fif-codec/images/input/lena.png'\n",
    "encoded_file = 'encoded_lena.fif'\n",
    "\n",
    "img = Image.open(input_file)\n",
    "img = img.convert('L')  # Convert to grayscale\n",
    "img_array=np.array(img, dtype=np.float32)\n",
    "\n",
    "# Encoding and decoding should be done with each channel\n",
    "# img_RGB = img.convert('RGB')\n",
    "# img_array_RGB=np.array(img_RGB, dtype=np.float32)\n",
    "\n",
    "print(img_array.shape)"
   ]
  },
  {
   "cell_type": "code",
   "execution_count": 42,
   "id": "2634abf5-c6fe-48d8-a1b1-24f098232176",
   "metadata": {
    "tags": []
   },
   "outputs": [
    {
     "name": "stdout",
     "output_type": "stream",
     "text": [
      "(512, 512)\n",
      "[[ 1.39747437e+02  1.38105499e+02  2.80572021e+02 ... -2.82519531e+00\n",
      "   1.58691406e-01  1.76819146e-01]\n",
      " [ 1.39672424e+02  1.39361847e+02  1.18498302e+00 ... -7.64503539e-01\n",
      "  -1.46705616e+00  6.67556763e-01]\n",
      " [ 2.75843353e+02  2.28394413e+00  2.81807037e+02 ... -7.03926086e-01\n",
      "   2.70566940e+00  3.47739363e+00]\n",
      " ...\n",
      " [ 7.23073387e+00 -9.77244759e+00  6.70488596e-01 ...  1.05906606e-01\n",
      "   4.09327269e-01  2.49979281e+00]\n",
      " [ 3.82510304e+00  2.59905577e+00 -5.37048197e+00 ... -4.42273974e-01\n",
      "   7.09844649e-01 -4.82821584e-01]\n",
      " [ 1.17933714e+00  5.48841095e+00 -2.97481966e+00 ... -2.99732506e-01\n",
      "   2.94415569e+00 -3.84998417e+00]]\n",
      "[(slice(None, 1, None), slice(None, 1, None)), {'ad': (slice(None, 1, None), slice(1, 2, None)), 'da': (slice(1, 2, None), slice(None, 1, None)), 'dd': (slice(1, 2, None), slice(1, 2, None))}, {'ad': (slice(None, 2, None), slice(2, 4, None)), 'da': (slice(2, 4, None), slice(None, 2, None)), 'dd': (slice(2, 4, None), slice(2, 4, None))}, {'ad': (slice(None, 4, None), slice(4, 8, None)), 'da': (slice(4, 8, None), slice(None, 4, None)), 'dd': (slice(4, 8, None), slice(4, 8, None))}, {'ad': (slice(None, 8, None), slice(8, 16, None)), 'da': (slice(8, 16, None), slice(None, 8, None)), 'dd': (slice(8, 16, None), slice(8, 16, None))}, {'ad': (slice(None, 16, None), slice(16, 32, None)), 'da': (slice(16, 32, None), slice(None, 16, None)), 'dd': (slice(16, 32, None), slice(16, 32, None))}, {'ad': (slice(None, 32, None), slice(32, 64, None)), 'da': (slice(32, 64, None), slice(None, 32, None)), 'dd': (slice(32, 64, None), slice(32, 64, None))}, {'ad': (slice(None, 64, None), slice(64, 128, None)), 'da': (slice(64, 128, None), slice(None, 64, None)), 'dd': (slice(64, 128, None), slice(64, 128, None))}, {'ad': (slice(None, 128, None), slice(128, 256, None)), 'da': (slice(128, 256, None), slice(None, 128, None)), 'dd': (slice(128, 256, None), slice(128, 256, None))}, {'ad': (slice(None, 256, None), slice(256, 512, None)), 'da': (slice(256, 512, None), slice(None, 256, None)), 'dd': (slice(256, 512, None), slice(256, 512, None))}]\n"
     ]
    }
   ],
   "source": [
    "H, W = img_array.shape\n",
    "print(img_array.shape)\n",
    "encoded_bytes = b\"\"\n",
    "\n",
    "encoded_data, coeff_slices = DCT1_Haar1(img_array)\n",
    "print(encoded_data)\n",
    "print(coeff_slices)"
   ]
  },
  {
   "cell_type": "code",
   "execution_count": 43,
   "id": "c03151ba-9054-4956-9a1e-639ec3b94384",
   "metadata": {
    "tags": []
   },
   "outputs": [
    {
     "name": "stdout",
     "output_type": "stream",
     "text": [
      "b'\\x00\\x02\\x00\\x00\\x00\\x02\\x00\\x00'\n",
      "b'\\x00\\x02\\x00\\x00\\x00\\x02\\x00\\x00h\\x03\\x00\\x00'\n",
      "b'\\x00\\x02\\x00\\x00\\x00\\x02\\x00\\x00h\\x03\\x00\\x00\\x80\\x04\\x95]\\x03\\x00\\x00\\x00\\x00\\x00\\x00]\\x94(\\x8c\\x08builtins\\x94\\x8c\\x05slice\\x94\\x93\\x94NK\\x01N\\x87\\x94R\\x94h\\x03NK\\x01N\\x87\\x94R\\x94\\x86\\x94}\\x94(\\x8c\\x02ad\\x94h\\x03NK\\x01N\\x87\\x94R\\x94h\\x03K\\x01K\\x02N\\x87\\x94R\\x94\\x86\\x94\\x8c\\x02da\\x94h\\x03K\\x01K\\x02N\\x87\\x94R\\x94h\\x03NK\\x01N\\x87\\x94R\\x94\\x86\\x94\\x8c\\x02dd\\x94h\\x03K\\x01K\\x02N\\x87\\x94R\\x94h\\x03K\\x01K\\x02N\\x87\\x94R\\x94\\x86\\x94u}\\x94(\\x8c\\x02ad\\x94h\\x03NK\\x02N\\x87\\x94R\\x94h\\x03K\\x02K\\x04N\\x87\\x94R\\x94\\x86\\x94\\x8c\\x02da\\x94h\\x03K\\x02K\\x04N\\x87\\x94R\\x94h\\x03NK\\x02N\\x87\\x94R\\x94\\x86\\x94\\x8c\\x02dd\\x94h\\x03K\\x02K\\x04N\\x87\\x94R\\x94h\\x03K\\x02K\\x04N\\x87\\x94R\\x94\\x86\\x94u}\\x94(\\x8c\\x02ad\\x94h\\x03NK\\x04N\\x87\\x94R\\x94h\\x03K\\x04K\\x08N\\x87\\x94R\\x94\\x86\\x94\\x8c\\x02da\\x94h\\x03K\\x04K\\x08N\\x87\\x94R\\x94h\\x03NK\\x04N\\x87\\x94R\\x94\\x86\\x94\\x8c\\x02dd\\x94h\\x03K\\x04K\\x08N\\x87\\x94R\\x94h\\x03K\\x04K\\x08N\\x87\\x94R\\x94\\x86\\x94u}\\x94(\\x8c\\x02ad\\x94h\\x03NK\\x08N\\x87\\x94R\\x94h\\x03K\\x08K\\x10N\\x87\\x94R\\x94\\x86\\x94\\x8c\\x02da\\x94h\\x03K\\x08K\\x10N\\x87\\x94R\\x94h\\x03NK\\x08N\\x87\\x94R\\x94\\x86\\x94\\x8c\\x02dd\\x94h\\x03K\\x08K\\x10N\\x87\\x94R\\x94h\\x03K\\x08K\\x10N\\x87\\x94R\\x94\\x86\\x94u}\\x94(\\x8c\\x02ad\\x94h\\x03NK\\x10N\\x87\\x94R\\x94h\\x03K\\x10K N\\x87\\x94R\\x94\\x86\\x94\\x8c\\x02da\\x94h\\x03K\\x10K N\\x87\\x94R\\x94h\\x03NK\\x10N\\x87\\x94R\\x94\\x86\\x94\\x8c\\x02dd\\x94h\\x03K\\x10K N\\x87\\x94R\\x94h\\x03K\\x10K N\\x87\\x94R\\x94\\x86\\x94u}\\x94(\\x8c\\x02ad\\x94h\\x03NK N\\x87\\x94R\\x94h\\x03K K@N\\x87\\x94R\\x94\\x86\\x94\\x8c\\x02da\\x94h\\x03K K@N\\x87\\x94R\\x94h\\x03NK N\\x87\\x94R\\x94\\x86\\x94\\x8c\\x02dd\\x94h\\x03K K@N\\x87\\x94R\\x94h\\x03K K@N\\x87\\x94R\\x94\\x86\\x94u}\\x94(\\x8c\\x02ad\\x94h\\x03NK@N\\x87\\x94R\\x94h\\x03K@K\\x80N\\x87\\x94R\\x94\\x86\\x94\\x8c\\x02da\\x94h\\x03K@K\\x80N\\x87\\x94R\\x94h\\x03NK@N\\x87\\x94R\\x94\\x86\\x94\\x8c\\x02dd\\x94h\\x03K@K\\x80N\\x87\\x94R\\x94h\\x03K@K\\x80N\\x87\\x94R\\x94\\x86\\x94u}\\x94(\\x8c\\x02ad\\x94h\\x03NK\\x80N\\x87\\x94R\\x94h\\x03K\\x80M\\x00\\x01N\\x87\\x94R\\x94\\x86\\x94\\x8c\\x02da\\x94h\\x03K\\x80M\\x00\\x01N\\x87\\x94R\\x94h\\x03NK\\x80N\\x87\\x94R\\x94\\x86\\x94\\x8c\\x02dd\\x94h\\x03K\\x80M\\x00\\x01N\\x87\\x94R\\x94h\\x03K\\x80M\\x00\\x01N\\x87\\x94R\\x94\\x86\\x94u}\\x94(\\x8c\\x02ad\\x94h\\x03NM\\x00\\x01N\\x87\\x94R\\x94h\\x03M\\x00\\x01M\\x00\\x02N\\x87\\x94R\\x94\\x86\\x94\\x8c\\x02da\\x94h\\x03M\\x00\\x01M\\x00\\x02N\\x87\\x94R\\x94h\\x03NM\\x00\\x01N\\x87\\x94R\\x94\\x86\\x94\\x8c\\x02dd\\x94h\\x03M\\x00\\x01M\\x00\\x02N\\x87\\x94R\\x94h\\x03M\\x00\\x01M\\x00\\x02N\\x87\\x94R\\x94\\x86\\x94ue.'\n"
     ]
    }
   ],
   "source": [
    "import pickle\n",
    "\n",
    "# Assuming `coeff_slices` is obtained during the Haar transform\n",
    "compressed_data = compress_float(encoded_data)\n",
    "encoded_bytes = pack('II', H, W)\n",
    "print(encoded_bytes)\n",
    "\n",
    "if coeff_slices:\n",
    "    serialized_slices = pickle.dumps(coeff_slices)\n",
    "    encoded_bytes += pack('I', len(serialized_slices))\n",
    "    print(encoded_bytes)\n",
    "    encoded_bytes += serialized_slices\n",
    "    print(encoded_bytes)\n",
    "else:\n",
    "    encoded_bytes += pack('I', 0)\n",
    "\n",
    "encoded_bytes += compressed_data\n",
    "\n",
    "with open(encoded_file, 'wb') as f:\n",
    "    f.write(encoded_bytes)"
   ]
  },
  {
   "cell_type": "code",
   "execution_count": 44,
   "id": "0065754c-d0d5-49c4-8795-48835bee3c22",
   "metadata": {
    "tags": []
   },
   "outputs": [],
   "source": [
    "with open(encoded_file, 'rb') as f:\n",
    "    H, W = unpack('II', f.read(8))\n",
    "    num_slices = unpack('I', f.read(4))[0]\n",
    "    if num_slices > 0:\n",
    "        serialized_slices = f.read(num_slices)\n",
    "        loaded_DCT1_Haar1_coeff = pickle.loads(serialized_slices)\n",
    "    else:\n",
    "        loaded_DCT1_Haar1_coeff = None\n",
    "    compressed_data = f.read()\n",
    "\n",
    "encoded_data = decompress_float(compressed_data)\n",
    "encoded_data = np.reshape(encoded_data, (H, W))\n",
    "# decoded_img = DCT1_Haar1_inv(encoded_data, loaded_DCT1_Haar1_coeff)"
   ]
  },
  {
   "cell_type": "code",
   "execution_count": 55,
   "id": "cde61a05-e9b4-44d8-9b70-7699d8ce9aa2",
   "metadata": {
    "tags": []
   },
   "outputs": [
    {
     "data": {
      "text/plain": [
       "((512, 512), 10)"
      ]
     },
     "execution_count": 55,
     "metadata": {},
     "output_type": "execute_result"
    }
   ],
   "source": [
    "encoded_data.shape, len(loaded_DCT1_Haar1_coeff)"
   ]
  },
  {
   "cell_type": "code",
   "execution_count": 46,
   "id": "1d69e4b4-2899-4ca9-849d-d77b0fd68c28",
   "metadata": {
    "tags": []
   },
   "outputs": [],
   "source": [
    "decoded_img = DCT1_Haar1_inv(encoded_data, coeff_slices)"
   ]
  },
  {
   "cell_type": "code",
   "execution_count": 48,
   "id": "d39d09c4-6257-4e9b-a457-a58fe7693fe4",
   "metadata": {
    "tags": []
   },
   "outputs": [],
   "source": [
    "decoded_file = 'decoded_lena.jpg'\n",
    "save_image(decoded_img, decoded_file)"
   ]
  }
 ],
 "metadata": {
  "kernelspec": {
   "display_name": "Python 3 (ipykernel)",
   "language": "python",
   "name": "python3"
  },
  "language_info": {
   "codemirror_mode": {
    "name": "ipython",
    "version": 3
   },
   "file_extension": ".py",
   "mimetype": "text/x-python",
   "name": "python",
   "nbconvert_exporter": "python",
   "pygments_lexer": "ipython3",
   "version": "3.11.4"
  }
 },
 "nbformat": 4,
 "nbformat_minor": 5
}
