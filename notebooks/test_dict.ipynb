{
 "cells": [
  {
   "cell_type": "code",
   "execution_count": 1,
   "id": "6783bcae-9e5d-4d46-a733-f7bf8167f3f4",
   "metadata": {
    "tags": []
   },
   "outputs": [],
   "source": [
    "import numpy as np"
   ]
  },
  {
   "cell_type": "code",
   "execution_count": 2,
   "id": "19f02a1a-5bd0-43c0-a3ed-bae7d67c21ee",
   "metadata": {
    "tags": []
   },
   "outputs": [],
   "source": [
    "import pywt\n",
    "from math import cos, sin, pi, sqrt, log"
   ]
  },
  {
   "cell_type": "code",
   "execution_count": 3,
   "id": "b4625dd9-128e-434c-b1b8-4be17791a7f6",
   "metadata": {
    "tags": []
   },
   "outputs": [],
   "source": [
    "def phi(x):\n",
    "        return 1 if 0 <= x < 1 else 0\n",
    "\n",
    "def psi(x):\n",
    "    if 0 <= x < 0.5:\n",
    "        return 1\n",
    "    elif 0.5 <= x < 1:\n",
    "        return -1\n",
    "    return 0\n",
    "\n",
    "def h(i, N):\n",
    "    if i == 0:\n",
    "        return phi\n",
    "\n",
    "    n, k = [(n, k) for n in range(int(log(N, 2))) for k in range(2 ** n)][i - 1]\n",
    "    return lambda x: 2 ** (n / 2.0) * psi(2 ** n * x - k)\n",
    "\n",
    "def v(h, N):\n",
    "    return [h(i / float(N)) for i in range(N)]\n",
    "\n",
    "def Haar1_qt(rows, cols):\n",
    "    \"\"\"Haar wavelet transform matrix\"\"\"\n",
    "    return np.array([v(h(i, cols), rows) for i in range(cols)]).T"
   ]
  },
  {
   "cell_type": "code",
   "execution_count": 4,
   "id": "b95c4a34-7394-4df0-b6e4-352629d064bf",
   "metadata": {
    "tags": []
   },
   "outputs": [],
   "source": [
    "def DCT_II_f(k, N):\n",
    "    return lambda x: np.cos(pi * (x + 0.5) * k / N)\n",
    "\n",
    "def w(k, N):\n",
    "    c = sqrt(2) ** np.sign(k)\n",
    "    return [c * DCT_II_f(k, N)(i / float(N)) for i in range(N)]\n",
    "\n",
    "def DCT1_qt(rows, cols):\n",
    "    \"\"\"DCT transform matrix\"\"\"\n",
    "    return np.array([w(k, rows) for k in range(cols)]).T"
   ]
  },
  {
   "cell_type": "code",
   "execution_count": 5,
   "id": "d287f39f-a043-4836-996b-abb293b590a9",
   "metadata": {
    "tags": []
   },
   "outputs": [],
   "source": [
    "def wavelet_transform_qt(rows, cols, wavelet='db1'):\n",
    "    \"\"\"\n",
    "    Generate a matrix using the specified wavelet from the PyWavelets library.\n",
    "    :param rows: Number of rows in the output matrix.\n",
    "    :param cols: Number of columns in the output matrix.\n",
    "    :param wavelet: Wavelet type to use. Default is 'db1' (Daubechies wavelet).\n",
    "    :return: Wavelet transform matrix.\n",
    "    \"\"\"\n",
    "    wavelet = pywt.Wavelet(wavelet)\n",
    "    wavelet_basis = pywt.wavedec(np.eye(rows, cols), wavelet, level=int(log(rows, 2)))\n",
    "\n",
    "    # Flatten and format the wavelet basis into a matrix similar to Haar/DCT\n",
    "    wavelet_matrix = np.array(wavelet_basis[0]) \n",
    "    return wavelet_matrix"
   ]
  },
  {
   "cell_type": "code",
   "execution_count": 6,
   "id": "65d893b1-ca31-4231-a817-6f6569d9ecd8",
   "metadata": {
    "tags": []
   },
   "outputs": [],
   "source": [
    "def DCT1_wavelet_qt(rows, cols, wavelet='db1', shuffle=False):\n",
    "    \"\"\"Combined DCT and alternative wavelet transform matrix with optional column shuffling.\"\"\"\n",
    "    dct_matrix = DCT1_qt(rows, cols // 2)  \n",
    "    print(\"dct_matrix.shape\", dct_matrix.shape)\n",
    "    wavelet_matrix = wavelet_transform_qt(rows, cols // 2, wavelet)\n",
    "    print(\"wavelet_matrix.shape\", wavelet_matrix.shape)\n",
    "\n",
    "    # Hacemos un diccionario híbrido con dos transformadas pero si luego\n",
    "    # en el OMP hacemos un cut en las columnas tomamos solamente la primera transformada\n",
    "    # por eso quizás lo mejor sea hacer un shuffle antes\n",
    "\n",
    "    combined_matrix = np.concatenate((dct_matrix, wavelet_matrix), axis=1)  \n",
    "\n",
    "    if shuffle:\n",
    "        combined_matrix = self.shuffle_columns(combined_matrix)\n",
    "\n",
    "    return combined_matrix"
   ]
  },
  {
   "cell_type": "code",
   "execution_count": 6,
   "id": "2490f679-0ae8-4742-bfb1-a1ff667c5678",
   "metadata": {
    "tags": []
   },
   "outputs": [
    {
     "name": "stdout",
     "output_type": "stream",
     "text": [
      "dct_matrix.shape (16, 128)\n",
      "wavelet_matrix.shape (16, 8)\n"
     ]
    },
    {
     "data": {
      "text/plain": [
       "(16, 136)"
      ]
     },
     "execution_count": 6,
     "metadata": {},
     "output_type": "execute_result"
    }
   ],
   "source": [
    "a_col = 256\n",
    "DCT1_wavelet_qt(16,a_col).shape"
   ]
  },
  {
   "cell_type": "code",
   "execution_count": 7,
   "id": "6e303726-f75b-4b36-bcaf-9558bd795ecf",
   "metadata": {
    "tags": []
   },
   "outputs": [
    {
     "data": {
      "text/plain": [
       "128"
      ]
     },
     "execution_count": 7,
     "metadata": {},
     "output_type": "execute_result"
    }
   ],
   "source": [
    "256 // 2"
   ]
  },
  {
   "cell_type": "code",
   "execution_count": 38,
   "id": "99b5e665-dfb8-48d8-ba15-0eee589411f4",
   "metadata": {
    "tags": []
   },
   "outputs": [
    {
     "name": "stdout",
     "output_type": "stream",
     "text": [
      "(16, 128)\n"
     ]
    }
   ],
   "source": [
    "import pywt\n",
    "import numpy as np\n",
    "\n",
    "def expanded_wavelet_matrix_complete(wavelet_name, N, M, tolerance=1e-8, fill_random=True):\n",
    "    \"\"\"\n",
    "    Construct an expanded wavelet matrix of size M x N using a specified wavelet,\n",
    "    filling with randomized or alternative wavelet functions to achieve M rows.\n",
    "    \n",
    "    Args:\n",
    "    - wavelet_name: The name of the wavelet (e.g., 'haar', 'db2', 'coif1', etc.).\n",
    "    - N: The length of the signal.\n",
    "    - M: The desired number of wavelet transforms to generate (M > N).\n",
    "    - tolerance: The threshold below which coefficients are considered zero.\n",
    "    - fill_random: If True, fill remaining rows using random linear combinations of wavelets.\n",
    "    \n",
    "    Returns:\n",
    "    - A matrix of wavelet basis functions with exactly M rows and N columns.\n",
    "    \"\"\"\n",
    "    if M <= N:\n",
    "        raise ValueError(\"M should be greater than N for an overcomplete matrix.\")\n",
    "    \n",
    "    # Initialize the matrix\n",
    "    W = []\n",
    "    \n",
    "    # Get the wavelet\n",
    "    wavelet = pywt.Wavelet(wavelet_name)\n",
    "    \n",
    "    # Generate wavelet decomposition for different levels\n",
    "    max_level = pywt.dwt_max_level(N, wavelet.dec_len)\n",
    "    \n",
    "    # Iterate over decomposition levels\n",
    "    for level in range(1, max_level + 1):\n",
    "        for shift in range(N):\n",
    "            impulse_signal = np.zeros(N)\n",
    "            impulse_signal[shift] = 1  # Impulse at the current shift\n",
    "            \n",
    "            # Perform wavelet decomposition\n",
    "            coeffs = pywt.wavedec(impulse_signal, wavelet, level=level)\n",
    "            \n",
    "            # Reconstruct wavelet at this level\n",
    "            reconstructed_signal = pywt.waverec(coeffs, wavelet)[:N]\n",
    "            \n",
    "            # Check if the reconstructed signal has significant non-zero values\n",
    "            if np.max(np.abs(reconstructed_signal)) > tolerance:\n",
    "                # Store the reconstructed wavelet function in the matrix\n",
    "                W.append(reconstructed_signal)\n",
    "            \n",
    "            # Stop if we've reached the desired number of non-zero rows (M)\n",
    "            if len(W) >= M:\n",
    "                break\n",
    "        \n",
    "        if len(W) >= M:\n",
    "            break\n",
    "\n",
    "    # If we don't have enough non-zero rows, fill the rest with random combinations\n",
    "    if len(W) < M and fill_random:\n",
    "        num_remaining = M - len(W)\n",
    "        np.random.seed(42)  # For reproducibility\n",
    "        \n",
    "        # Generate random linear combinations of existing wavelets\n",
    "        for _ in range(num_remaining):\n",
    "            random_combination = np.sum(\n",
    "                np.random.rand(len(W), 1) * np.array(W), axis=0\n",
    "            )\n",
    "            W.append(random_combination)\n",
    "\n",
    "    # Convert the list to a numpy array with shape (M, N)\n",
    "    W = np.array(W[:M])\n",
    "    \n",
    "    return W.T\n",
    "\n",
    "# Example usage:\n",
    "N = 16  # Signal length\n",
    "M = 128  # Maximum number of different wavelet transforms\n",
    "wavelet_name = 'db2'  # You can use 'haar', 'db2', 'sym2', 'coif1', etc.\n",
    "expanded_wavelet_matrix = expanded_wavelet_matrix_complete(wavelet_name, N, M)\n",
    "\n",
    "print(expanded_wavelet_matrix.shape)  "
   ]
  },
  {
   "cell_type": "code",
   "execution_count": 39,
   "id": "cd51d1f5-aced-431b-9414-949426d4399f",
   "metadata": {
    "tags": []
   },
   "outputs": [],
   "source": [
    "# Example usage:\n",
    "N = 16  # Signal length\n",
    "M = 128  # Number of different wavelet transforms\n",
    " # You can use 'haar', 'db2', 'sym2', 'coif1', etc.\n",
    "haar_wavelet_matrix = expanded_wavelet_matrix_complete('haar', N, M)\n",
    "db2_wavelet_matrix = expanded_wavelet_matrix_complete('db2', N, M)\n",
    "sym2_wavelet_matrix = expanded_wavelet_matrix_complete('sym2', N, M)\n",
    "coif1_wavelet_matrix = expanded_wavelet_matrix_complete('coif1', N, M)\n",
    "sym3_wavelet_matrix = expanded_wavelet_matrix_complete('sym3', N, M)"
   ]
  },
  {
   "cell_type": "code",
   "execution_count": 25,
   "id": "6fedb8ba-6dbe-49a9-8911-53475f0c74dc",
   "metadata": {
    "tags": []
   },
   "outputs": [
    {
     "data": {
      "text/plain": [
       "(16, 128)"
      ]
     },
     "execution_count": 25,
     "metadata": {},
     "output_type": "execute_result"
    }
   ],
   "source": [
    "coif1_wavelet_matrix.shape"
   ]
  },
  {
   "cell_type": "code",
   "execution_count": 89,
   "id": "c20316fa-4ad8-438a-9b30-6b34af9ed5c5",
   "metadata": {
    "tags": []
   },
   "outputs": [
    {
     "ename": "AttributeError",
     "evalue": "'tuple' object has no attribute 'shape'",
     "output_type": "error",
     "traceback": [
      "\u001b[1;31m---------------------------------------------------------------------------\u001b[0m",
      "\u001b[1;31mAttributeError\u001b[0m                            Traceback (most recent call last)",
      "Cell \u001b[1;32mIn[89], line 2\u001b[0m\n\u001b[0;32m      1\u001b[0m a_col \u001b[38;5;241m=\u001b[39m \u001b[38;5;241m256\u001b[39m\n\u001b[1;32m----> 2\u001b[0m wavelet_transform_qt(\u001b[38;5;241m16\u001b[39m, a_col\u001b[38;5;241m/\u001b[39m\u001b[38;5;241m/\u001b[39m\u001b[38;5;241m2\u001b[39m)\u001b[38;5;241m.\u001b[39mshape\n",
      "\u001b[1;31mAttributeError\u001b[0m: 'tuple' object has no attribute 'shape'"
     ]
    }
   ],
   "source": [
    "a_col = 256\n",
    "wavelet_transform_qt(16, a_col//2).shape"
   ]
  },
  {
   "cell_type": "markdown",
   "id": "8acbe3e3-daee-4c5a-b518-1b436b9e0aa3",
   "metadata": {},
   "source": [
    "# Basis visualization"
   ]
  },
  {
   "cell_type": "code",
   "execution_count": 13,
   "id": "30e9af50-9769-4692-afdc-fb4a5c265fe3",
   "metadata": {
    "tags": []
   },
   "outputs": [
    {
     "data": {
      "image/png": "[encoded data removed]",
      "text/plain": [
       "<Figure size 1600x400 with 5 Axes>"
      ]
     },
     "metadata": {},
     "output_type": "display_data"
    }
   ],
   "source": [
    "import seaborn as sns\n",
    "import matplotlib.pyplot as plt\n",
    "import numpy as np\n",
    "\n",
    "# Example DCT matrix generator (you can use your own)\n",
    "rows, cols = 16, 128  # Adjust as needed\n",
    "dct_matrix = DCT1_qt(rows, cols)\n",
    "\n",
    "# Plotting a few atoms (rows) from the DCT matrix\n",
    "def plot_dct_atoms(dct_matrix, num_atoms=4):\n",
    "    fig, axes = plt.subplots(1, num_atoms, figsize=(16, 4))\n",
    "    columns = dct_matrix.shape[1]\n",
    "    \n",
    "    # Calculate step size based on the number of atoms\n",
    "    step = max(1, columns // num_atoms)\n",
    "    subplot = 0\n",
    "    \n",
    "    for i in range(0, columns, step):\n",
    "        if subplot >= num_atoms:\n",
    "            break  # Prevent exceeding the number of subplots\n",
    "        \n",
    "        # Select a column (atom) and reshape it for the heatmap\n",
    "        atom = dct_matrix[:, i].reshape(1, -1)\n",
    "        sns.heatmap(atom, ax=axes[subplot], cmap=\"viridis\", cbar=False)\n",
    "        axes[subplot].set_title(f\"Atom {i+1}\")\n",
    "        axes[subplot].set_xlabel('Coefficient')\n",
    "        axes[subplot].set_yticks([])  # Remove the y-ticks for cleaner plot\n",
    "        subplot += 1\n",
    "    \n",
    "    plt.tight_layout()\n",
    "    plt.show()\n",
    "\n",
    "# Plot the first 4 atoms (you can specify any number)\n",
    "plot_dct_atoms(dct_matrix, num_atoms=5)"
   ]
  },
  {
   "cell_type": "code",
   "execution_count": 123,
   "id": "c6bbd989-bbc6-4afd-b8d2-f6b50e31a7f4",
   "metadata": {
    "tags": []
   },
   "outputs": [
    {
     "data": {
      "image/png": "[encoded data removed]",
      "text/plain": [
       "<Figure size 1600x400 with 10 Axes>"
      ]
     },
     "metadata": {},
     "output_type": "display_data"
    }
   ],
   "source": [
    "rows, cols = 16, 128  # Adjust as needed\n",
    "wavelet_matrix = Haar1_qt(rows, cols)\n",
    "plot_dct_atoms(wavelet_matrix, num_atoms=10)"
   ]
  },
  {
   "cell_type": "code",
   "execution_count": 132,
   "id": "aad1040a-5a34-4b26-8d98-d99b80726a0d",
   "metadata": {
    "tags": []
   },
   "outputs": [
    {
     "data": {
      "text/plain": [
       "array([ 0.        ,  0.        , -0.02214054,  0.10285946,  0.10285946,\n",
       "        0.54428109, -1.20571891, -1.20571891,  0.47785946,  0.10285946,\n",
       "        0.10285946,  0.        ,  0.        ,  0.        ,  0.        ,\n",
       "        0.        ])"
      ]
     },
     "execution_count": 132,
     "metadata": {},
     "output_type": "execute_result"
    }
   ],
   "source": [
    "wavelet_matrix[:,15]"
   ]
  },
  {
   "cell_type": "code",
   "execution_count": 40,
   "id": "0b32c267-356f-479f-a61e-efd2c74e9adc",
   "metadata": {
    "tags": []
   },
   "outputs": [
    {
     "data": {
      "image/png": "[encoded data removed]",
      "text/plain": [
       "<Figure size 1600x400 with 10 Axes>"
      ]
     },
     "metadata": {},
     "output_type": "display_data"
    }
   ],
   "source": [
    "plot_dct_atoms(haar_wavelet_matrix, num_atoms=10)"
   ]
  },
  {
   "cell_type": "code",
   "execution_count": 41,
   "id": "02345233-e263-465e-8f8e-5e623a3a228a",
   "metadata": {
    "tags": []
   },
   "outputs": [
    {
     "data": {
      "image/png": "[encoded data removed]",
      "text/plain": [
       "<Figure size 1600x400 with 10 Axes>"
      ]
     },
     "metadata": {},
     "output_type": "display_data"
    }
   ],
   "source": [
    "plot_dct_atoms(sym3_wavelet_matrix, num_atoms=10)"
   ]
  },
  {
   "cell_type": "code",
   "execution_count": 42,
   "id": "5e1acc67-de03-4a6a-b46e-bf163b8457cb",
   "metadata": {
    "tags": []
   },
   "outputs": [
    {
     "data": {
      "image/png": "[encoded data removed]",
      "text/plain": [
       "<Figure size 1600x400 with 10 Axes>"
      ]
     },
     "metadata": {},
     "output_type": "display_data"
    }
   ],
   "source": [
    "plot_dct_atoms(db2_wavelet_matrix, num_atoms=10)"
   ]
  },
  {
   "cell_type": "code",
   "execution_count": 35,
   "id": "22d1da2a-b64e-446b-8592-c1f2ecddf653",
   "metadata": {
    "tags": []
   },
   "outputs": [
    {
     "name": "stdout",
     "output_type": "stream",
     "text": [
      "64\n",
      "65\n",
      "66\n",
      "67\n",
      "68\n",
      "69\n",
      "70\n",
      "71\n",
      "72\n",
      "73\n",
      "74\n",
      "75\n",
      "76\n",
      "77\n",
      "78\n",
      "79\n",
      "80\n",
      "81\n",
      "82\n",
      "83\n",
      "84\n",
      "85\n",
      "86\n",
      "87\n",
      "88\n",
      "89\n",
      "90\n",
      "91\n",
      "92\n",
      "93\n",
      "94\n",
      "95\n",
      "96\n",
      "97\n",
      "98\n",
      "99\n",
      "100\n",
      "101\n",
      "102\n",
      "103\n",
      "104\n",
      "105\n",
      "106\n",
      "107\n",
      "108\n",
      "109\n",
      "110\n",
      "111\n",
      "112\n",
      "113\n",
      "114\n",
      "115\n",
      "116\n",
      "117\n",
      "118\n",
      "119\n",
      "120\n",
      "121\n",
      "122\n",
      "123\n",
      "124\n",
      "125\n",
      "126\n",
      "127\n"
     ]
    }
   ],
   "source": [
    "for i in range(128):\n",
    "    dot = np.dot(haar_wavelet_matrix[:,i]-np.zeros(16),haar_wavelet_matrix[:,i]-np.zeros(16))\n",
    "    if dot==0:\n",
    "        print(i)"
   ]
  },
  {
   "cell_type": "code",
   "execution_count": 76,
   "id": "156de0f1-aba4-4494-b1ac-9f65c07dd6b4",
   "metadata": {
    "tags": []
   },
   "outputs": [
    {
     "data": {
      "text/plain": [
       "1.0000000000000004"
      ]
     },
     "execution_count": 76,
     "metadata": {},
     "output_type": "execute_result"
    }
   ],
   "source": [
    "np.dot(wavelet_matrix[:,0],wavelet_matrix[:,0])"
   ]
  },
  {
   "cell_type": "code",
   "execution_count": 77,
   "id": "ebf8b0b1-fcd7-41d0-b8b6-ae6e55438ac5",
   "metadata": {
    "tags": []
   },
   "outputs": [
    {
     "data": {
      "text/plain": [
       "array([0.25      , 0.25      , 0.35355339, 0.        , 0.5       ,\n",
       "       0.        , 0.        , 0.        , 0.70710678, 0.        ,\n",
       "       0.        , 0.        , 0.        , 0.        , 0.        ,\n",
       "       0.        ])"
      ]
     },
     "execution_count": 77,
     "metadata": {},
     "output_type": "execute_result"
    }
   ],
   "source": [
    "wavelet_matrix[:,0]"
   ]
  },
  {
   "cell_type": "code",
   "execution_count": null,
   "id": "7f0dc7f1-784f-4060-ac4c-e225547fc4ec",
   "metadata": {},
   "outputs": [],
   "source": []
  }
 ],
 "metadata": {
  "kernelspec": {
   "display_name": "Python 3 (ipykernel)",
   "language": "python",
   "name": "python3"
  },
  "language_info": {
   "codemirror_mode": {
    "name": "ipython",
    "version": 3
   },
   "file_extension": ".py",
   "mimetype": "text/x-python",
   "name": "python",
   "nbconvert_exporter": "python",
   "pygments_lexer": "ipython3",
   "version": "3.11.4"
  }
 },
 "nbformat": 4,
 "nbformat_minor": 5
}
