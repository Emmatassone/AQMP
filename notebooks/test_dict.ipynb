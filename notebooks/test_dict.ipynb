{
 "cells": [
  {
   "cell_type": "code",
   "execution_count": 1,
   "id": "6783bcae-9e5d-4d46-a733-f7bf8167f3f4",
   "metadata": {
    "tags": []
   },
   "outputs": [],
   "source": [
    "import numpy as np"
   ]
  },
  {
   "cell_type": "code",
   "execution_count": 16,
   "id": "19f02a1a-5bd0-43c0-a3ed-bae7d67c21ee",
   "metadata": {
    "tags": []
   },
   "outputs": [],
   "source": [
    "import pywt\n",
    "from math import cos, sin, pi, sqrt, log"
   ]
  },
  {
   "cell_type": "code",
   "execution_count": 12,
   "id": "9db3b92e-5668-438b-8207-597987e97915",
   "metadata": {
    "tags": []
   },
   "outputs": [],
   "source": [
    "def DCT_II_f(k, N):\n",
    "    return lambda x: np.cos(pi * (x + 0.5) * k / N)\n",
    "\n",
    "def w(k, N):\n",
    "    c = sqrt(2) ** np.sign(k)\n",
    "    return [c * DCT_II_f(k, N)(i / float(N)) for i in range(N)]\n",
    "\n",
    "def DCT1_qt(rows, cols):\n",
    "    \"\"\"DCT transform matrix\"\"\"\n",
    "    return np.array([w(k, rows) for k in range(cols)]).T"
   ]
  },
  {
   "cell_type": "code",
   "execution_count": 13,
   "id": "d287f39f-a043-4836-996b-abb293b590a9",
   "metadata": {
    "tags": []
   },
   "outputs": [],
   "source": [
    "def wavelet_transform_qt(rows, cols, wavelet='db1'):\n",
    "    \"\"\"\n",
    "    Generate a matrix using the specified wavelet from the PyWavelets library.\n",
    "    :param rows: Number of rows in the output matrix.\n",
    "    :param cols: Number of columns in the output matrix.\n",
    "    :param wavelet: Wavelet type to use. Default is 'db1' (Daubechies wavelet).\n",
    "    :return: Wavelet transform matrix.\n",
    "    \"\"\"\n",
    "    wavelet = pywt.Wavelet(wavelet)\n",
    "    wavelet_basis = pywt.wavedec(np.eye(rows, cols), wavelet, level=int(log(rows, 2)))\n",
    "\n",
    "    # Flatten and format the wavelet basis into a matrix similar to Haar/DCT\n",
    "    wavelet_matrix = np.array(wavelet_basis[0]) \n",
    "    return wavelet_matrix"
   ]
  },
  {
   "cell_type": "code",
   "execution_count": 24,
   "id": "65d893b1-ca31-4231-a817-6f6569d9ecd8",
   "metadata": {
    "tags": []
   },
   "outputs": [],
   "source": [
    "def DCT1_wavelet_qt(rows, cols, wavelet='db1', shuffle=False):\n",
    "    \"\"\"Combined DCT and alternative wavelet transform matrix with optional column shuffling.\"\"\"\n",
    "    dct_matrix = DCT1_qt(rows, cols // 2)  \n",
    "    print(\"dct_matrix.shape\", dct_matrix.shape)\n",
    "    wavelet_matrix = wavelet_transform_qt(rows, cols // 2, wavelet)\n",
    "    print(\"wavelet_matrix.shape\", wavelet_matrix.shape)\n",
    "\n",
    "    # Hacemos un diccionario híbrido con dos transformadas pero si luego\n",
    "    # en el OMP hacemos un cut en las columnas tomamos solamente la primera transformada\n",
    "    # por eso quizás lo mejor sea hacer un shuffle antes\n",
    "\n",
    "    combined_matrix = np.concatenate((dct_matrix, wavelet_matrix), axis=1)  \n",
    "\n",
    "    if shuffle:\n",
    "        combined_matrix = self.shuffle_columns(combined_matrix)\n",
    "\n",
    "    return combined_matrix"
   ]
  },
  {
   "cell_type": "code",
   "execution_count": 25,
   "id": "2490f679-0ae8-4742-bfb1-a1ff667c5678",
   "metadata": {
    "tags": []
   },
   "outputs": [
    {
     "name": "stdout",
     "output_type": "stream",
     "text": [
      "dct_matrix.shape (16, 128)\n",
      "wavelet_matrix.shape (16, 8)\n"
     ]
    },
    {
     "data": {
      "text/plain": [
       "(16, 136)"
      ]
     },
     "execution_count": 25,
     "metadata": {},
     "output_type": "execute_result"
    }
   ],
   "source": [
    "a_col = 256\n",
    "DCT1_wavelet_qt(16,a_col).shape"
   ]
  },
  {
   "cell_type": "code",
   "execution_count": 21,
   "id": "6e303726-f75b-4b36-bcaf-9558bd795ecf",
   "metadata": {
    "tags": []
   },
   "outputs": [
    {
     "data": {
      "text/plain": [
       "128"
      ]
     },
     "execution_count": 21,
     "metadata": {},
     "output_type": "execute_result"
    }
   ],
   "source": [
    "256 // 2"
   ]
  },
  {
   "cell_type": "code",
   "execution_count": null,
   "id": "99b5e665-dfb8-48d8-ba15-0eee589411f4",
   "metadata": {},
   "outputs": [],
   "source": []
  }
 ],
 "metadata": {
  "kernelspec": {
   "display_name": "Python 3 (ipykernel)",
   "language": "python",
   "name": "python3"
  },
  "language_info": {
   "codemirror_mode": {
    "name": "ipython",
    "version": 3
   },
   "file_extension": ".py",
   "mimetype": "text/x-python",
   "name": "python",
   "nbconvert_exporter": "python",
   "pygments_lexer": "ipython3",
   "version": "3.8.10"
  }
 },
 "nbformat": 4,
 "nbformat_minor": 5
}
