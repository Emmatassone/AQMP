{
 "cells": [
  {
   "cell_type": "code",
   "execution_count": 49,
   "id": "95b5a7f0-7d45-4272-a746-3fa7cdf07b02",
   "metadata": {
    "tags": []
   },
   "outputs": [],
   "source": [
    "from codec import ImageCompressor\n",
    "import warnings\n",
    "from skimage import io, img_as_float\n",
    "from skimage.metrics import structural_similarity as ssim\n",
    "import matplotlib.pyplot as plt\n",
    "from PIL import Image"
   ]
  },
  {
   "cell_type": "code",
   "execution_count": 50,
   "id": "4ab005ac-a901-47c1-adf5-0ea33de03d28",
   "metadata": {
    "tags": []
   },
   "outputs": [],
   "source": [
    "min_sparcity = 130\n",
    "min_n = 2**4\n",
    "max_n = 2**5\n",
    "a_cols = 256\n",
    "fif_version = 2\n",
    "magic_number = b'FIF'  # Ensure this is a bytes object\n",
    "header_format = '3sBiiBBBBB'\n",
    "v_format_precision = \"f\" \n",
    "max_error = 0.1\n",
    "\n",
    "newCodec = ImageCompressor(min_sparcity,\n",
    "                           min_n,\n",
    "                           max_n,\n",
    "                           a_cols,\n",
    "                           fif_version,\n",
    "                           magic_number,\n",
    "                           header_format,\n",
    "                           v_format_precision,\n",
    "                           max_error\n",
    "                          )"
   ]
  },
  {
   "cell_type": "code",
   "execution_count": null,
   "id": "853e407e-f85c-4513-bc76-6ebe213cb724",
   "metadata": {
    "tags": []
   },
   "outputs": [],
   "source": [
    "input_file = 'lena.png'\n",
    "output_file = 'lena_compressed.fif'\n",
    "with warnings.catch_warnings():\n",
    "    # Following RuntimeWarning ignored:\n",
    "    # Orthogonal matching pursuit ended prematurely due to linear dependence in the dictionary.\n",
    "    # The requested precision might not have been met.\n",
    "    warnings.simplefilter(\"ignore\", RuntimeWarning)    \n",
    "    newCodec.encode(input_file, output_file)"
   ]
  },
  {
   "cell_type": "code",
   "execution_count": null,
   "id": "4f08b353-c423-4591-8739-08ebd716b684",
   "metadata": {
    "tags": []
   },
   "outputs": [],
   "source": [
    "input_file = 'lena_compressed.fif'\n",
    "output_file = 'lena_reconstructed.png'\n",
    "newCodec.decode(input_file, output_file)\n",
    "compression_rate = newCodec.image_rawsize / newCodec.non_zero_coefs\n",
    "print(f\"Compression rate: {compression_rate}\")"
   ]
  },
  {
   "cell_type": "code",
   "execution_count": null,
   "id": "970825a9-ab77-48a0-95fb-db7f70aafc7c",
   "metadata": {
    "tags": []
   },
   "outputs": [],
   "source": [
    "path = \"\"\n",
    "image1 = img_as_float(io.imread(path + 'lena.png', as_gray=True))\n",
    "image2 = img_as_float(io.imread('lena_reconstructed.png', as_gray=True))\n",
    "\n",
    "if image1.shape != image2.shape:\n",
    "    raise ValueError(\"Input images must have the same dimensions.\")\n",
    "\n",
    "ssim_index, ssim_image = ssim(image1,\n",
    "                              image2,\n",
    "                              full=True,\n",
    "                              data_range=image1.max() - image1.min()\n",
    "                             )\n",
    "\n",
    "print(f\"SSIM Index: {ssim_index}\")\n",
    "plt.imshow(ssim_image, cmap='gray')\n",
    "plt.title('SSIM Map')\n",
    "plt.colorbar()\n",
    "plt.show()"
   ]
  },
  {
   "cell_type": "code",
   "execution_count": null,
   "id": "08e11b33-cdae-438e-b815-d3335fa7b788",
   "metadata": {
    "tags": []
   },
   "outputs": [],
   "source": [
    "image = Image.open('lena_reconstructed.png')\n",
    "image_rgb = image.convert('RGB')\n",
    "image_rgb"
   ]
  },
  {
   "cell_type": "markdown",
   "id": "f6c821ba-1640-4b13-ac27-a745623df7df",
   "metadata": {},
   "source": [
    "# FIF vs JPEG"
   ]
  },
  {
   "cell_type": "code",
   "execution_count": 22,
   "id": "5ef1e24d-8fa4-44a4-a27e-375bb14280e8",
   "metadata": {
    "tags": []
   },
   "outputs": [
    {
     "name": "stdout",
     "output_type": "stream",
     "text": [
      "SSIM for JPEG compression: 0.9094240486016636\n",
      "SSIM for FIF Algorithm: 0.8854939629658934\n",
      "JPEG Compression Factor: 4.38\n",
      "FIF Algorithm Compression Factor: 1.23\n"
     ]
    }
   ],
   "source": [
    "import numpy as np\n",
    "import os\n",
    "\n",
    "def compress_jpeg(image_path, quality):\n",
    "    # quality:\n",
    "    #95 = highest quality/ lowest compression\n",
    "    #1 = lowest quality / highest compression\n",
    "    img = Image.open(image_path)\n",
    "    img.save(\"compressed_lena.jpg\", \"JPEG\", quality=quality)\n",
    "    return Image.open(\"compressed_lena.jpg\"), os.path.getsize(\"compressed_lena.jpg\")\n",
    "\n",
    "def calculate_ssim(original_img, compressed_img):\n",
    "    original = np.array(original_img)\n",
    "    compressed = np.array(compressed_img)\n",
    "    \n",
    "    ssim_value, _ = ssim(original,\n",
    "                         compressed,\n",
    "                         full=True,\n",
    "                         multichannel=True,\n",
    "                         channel_axis=2)\n",
    "    return ssim_value\n",
    "\n",
    "original_image = Image.open(\"lena.png\")\n",
    "original_size = os.path.getsize(\"lena.png\")\n",
    "jpeg_compressed_image, jpeg_compressed_size = compress_jpeg(\"lena.png\", quality=95)\n",
    "\n",
    "# JPEG SSIM\n",
    "jpeg_ssim = calculate_ssim(original_image, jpeg_compressed_image)\n",
    "\n",
    "# FIF SSIM\n",
    "fif_compressed_image = Image.open(\"lena_reconstructed.png\")\n",
    "fif_compressed_size = os.path.getsize(\"lena_reconstructed.png\")\n",
    "fif_ssim = calculate_ssim(original_image, fif_compressed_image)\n",
    "\n",
    "# Compression Factors\n",
    "jpeg_compression_factor = original_size / jpeg_compressed_size\n",
    "fif_compression_factor = original_size / fif_compressed_size\n",
    "\n",
    "print(f\"SSIM for JPEG compression: {jpeg_ssim}\")\n",
    "print(f\"SSIM for FIF Algorithm: {fif_ssim}\")\n",
    "print(f\"JPEG Compression Factor: {jpeg_compression_factor:.2f}\")\n",
    "print(f\"FIF Algorithm Compression Factor: {fif_compression_factor:.2f}\")"
   ]
  },
  {
   "cell_type": "markdown",
   "id": "034e2b8a-559a-4a72-853f-2e18fa6e386f",
   "metadata": {
    "jp-MarkdownHeadingCollapsed": true,
    "tags": []
   },
   "source": [
    "## <font color=\"blue\">JPEG plot</font> for different compression factors and SSIMs"
   ]
  },
  {
   "cell_type": "code",
   "execution_count": 26,
   "id": "e09752cd-25ca-46d3-99cd-40e14e1f0c30",
   "metadata": {
    "tags": []
   },
   "outputs": [
    {
     "data": {
      "image/png": "[encoded data removed]",
      "text/plain": [
       "<Figure size 1000x600 with 1 Axes>"
      ]
     },
     "metadata": {},
     "output_type": "display_data"
    }
   ],
   "source": [
    "original_size = os.path.getsize(\"lena.png\")\n",
    "image_path='lena.png'\n",
    "\n",
    "qualities = range(1, 96,5)  # JPEG quality values from 1(min) to 95 (max)\n",
    "compression_factors = []\n",
    "ssim_scores = []\n",
    "\n",
    "for quality in qualities:\n",
    "    # JPEG compression\n",
    "    jpeg_compressed_image, jpeg_compressed_size = compress_jpeg(image_path, quality)\n",
    "    \n",
    "    #Compression factor\n",
    "    compression_factor = original_size / jpeg_compressed_size\n",
    "    compression_factors.append(compression_factor)\n",
    "    \n",
    "    #SSIM score\n",
    "    jpeg_ssim = calculate_ssim(original_image, jpeg_compressed_image)\n",
    "    ssim_scores.append(jpeg_ssim)\n",
    "\n",
    "# Plot Compression Factor vs. SSIM\n",
    "plt.figure(figsize=(10, 6))\n",
    "plt.plot(compression_factors, ssim_scores, marker='o', linestyle='-', color='b')\n",
    "plt.title('Compression Factor vs. SSIM for JPEG Compression')\n",
    "plt.xlabel('Compression Factor')\n",
    "plt.ylabel('SSIM Score')\n",
    "plt.grid(True)\n",
    "plt.savefig('plots/Plot_lena_JPEG_compression-factor_vs_SSIM.png')"
   ]
  },
  {
   "cell_type": "markdown",
   "id": "65635a9a-525f-4684-9b7e-76b769851529",
   "metadata": {},
   "source": [
    "## <font color=\"red\">FIF plot</font> for different compression factors and SSIMs"
   ]
  },
  {
   "cell_type": "code",
   "execution_count": 27,
   "id": "d2d751ae-e69d-4d4e-b7f5-b49ac9358c18",
   "metadata": {
    "tags": []
   },
   "outputs": [
    {
     "data": {
      "text/plain": [
       "2"
      ]
     },
     "execution_count": 27,
     "metadata": {},
     "output_type": "execute_result"
    }
   ],
   "source": [
    "len(newCodec.omp_handler.omp_dict)"
   ]
  },
  {
   "cell_type": "code",
   "execution_count": 36,
   "id": "ec752b41-e7ea-4178-b4cc-c5c10aae5bca",
   "metadata": {
    "tags": []
   },
   "outputs": [
    {
     "data": {
      "text/plain": [
       "(256, 256)"
      ]
     },
     "execution_count": 36,
     "metadata": {},
     "output_type": "execute_result"
    }
   ],
   "source": [
    "newCodec.omp_handler.omp_dict.get(16).shape"
   ]
  },
  {
   "cell_type": "code",
   "execution_count": 37,
   "id": "fddb4945-c18e-4d8b-9dec-94c9c17aa43b",
   "metadata": {
    "tags": []
   },
   "outputs": [
    {
     "data": {
      "text/plain": [
       "(1024, 256)"
      ]
     },
     "execution_count": 37,
     "metadata": {},
     "output_type": "execute_result"
    }
   ],
   "source": [
    "newCodec.omp_handler.omp_dict.get(32).shape"
   ]
  },
  {
   "cell_type": "code",
   "execution_count": null,
   "id": "967b90b9-db7c-43a3-8a8e-99d727ff1720",
   "metadata": {},
   "outputs": [],
   "source": []
  }
 ],
 "metadata": {
  "kernelspec": {
   "display_name": "Python 3 (ipykernel)",
   "language": "python",
   "name": "python3"
  },
  "language_info": {
   "codemirror_mode": {
    "name": "ipython",
    "version": 3
   },
   "file_extension": ".py",
   "mimetype": "text/x-python",
   "name": "python",
   "nbconvert_exporter": "python",
   "pygments_lexer": "ipython3",
   "version": "3.11.4"
  }
 },
 "nbformat": 4,
 "nbformat_minor": 5
}
