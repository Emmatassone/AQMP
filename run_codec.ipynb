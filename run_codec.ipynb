{
 "cells": [
  {
   "cell_type": "code",
   "execution_count": null,
   "id": "d03d00f8-8d0b-49f7-a0d5-551e34e833d7",
   "metadata": {},
   "outputs": [],
   "source": [
    "min_n = 2**4\n",
    "max_n = 2**5\n",
    "a_cols = 256\n",
    "fif_version = 2\n",
    "magic_number = b'FIF'  # Ensure this is a bytes object\n",
    "header_format = '3sBiiBBBBB'\n",
    "v_format_precision = \"f\" "
   ]
  },
  {
   "cell_type": "code",
   "execution_count": null,
   "id": "4ab005ac-a901-47c1-adf5-0ea33de03d28",
   "metadata": {},
   "outputs": [],
   "source": [
    "from codec import ImageCompressor\n",
    "\n",
    "newCodec = ImageCompressor(min_n, max_n, a_cols, fif_version, magic_number, header_format, v_format_precision)"
   ]
  },
  {
   "cell_type": "code",
   "execution_count": null,
   "id": "853e407e-f85c-4513-bc76-6ebe213cb724",
   "metadata": {
    "tags": []
   },
   "outputs": [],
   "source": [
    "input_file = 'lena.png'\n",
    "output_file = 'lena_compressed.fif'\n",
    "max_error = 0.1 \n",
    "basis_index = 0 \n",
    "\n",
    "import warnings\n",
    "\n",
    "with warnings.catch_warnings():\n",
    "    #Following RuntimeWarning ignored:\n",
    "    #Orthogonal matching pursuit ended prematurely due to linear dependence in the dictionary. The requested precision might not have been met.\n",
    "    warnings.simplefilter(\"ignore\", RuntimeWarning)\n",
    "    \n",
    "    #Encode image\n",
    "    newCodec.code( input_file, output_file, max_error )\n"
   ]
  },
  {
   "cell_type": "code",
   "execution_count": null,
   "id": "2a487fa1-ad94-4b7d-8b73-21dc4789756b",
   "metadata": {},
   "outputs": [],
   "source": [
    "input_file = 'lena_compressed.fif'\n",
    "output_file = 'lena_reconstructed.png'\n",
    "newCodec.decode(input_file, output_file)"
   ]
  }
 ],
 "metadata": {
  "kernelspec": {
   "display_name": "Python 3 (ipykernel)",
   "language": "python",
   "name": "python3"
  },
  "language_info": {
   "codemirror_mode": {
    "name": "ipython",
    "version": 3
   },
   "file_extension": ".py",
   "mimetype": "text/x-python",
   "name": "python",
   "nbconvert_exporter": "python",
   "pygments_lexer": "ipython3",
   "version": "3.11.4"
  }
 },
 "nbformat": 4,
 "nbformat_minor": 5
}
