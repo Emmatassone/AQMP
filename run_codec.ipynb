{
 "cells": [
  {
   "cell_type": "code",
   "execution_count": 1,
   "id": "4e979a9d-caa9-4b4b-992e-f3f96f0530d3",
   "metadata": {
    "tags": []
   },
   "outputs": [],
   "source": [
    "%load_ext autoreload\n",
    "%autoreload 2"
   ]
  },
  {
   "cell_type": "code",
   "execution_count": 12,
   "id": "95b5a7f0-7d45-4272-a746-3fa7cdf07b02",
   "metadata": {
    "tags": []
   },
   "outputs": [],
   "source": [
    "from codec import ImageCompressor"
   ]
  },
  {
   "cell_type": "code",
   "execution_count": 13,
   "id": "4ab005ac-a901-47c1-adf5-0ea33de03d28",
   "metadata": {
    "tags": []
   },
   "outputs": [],
   "source": [
    "min_sparcity = 100\n",
    "min_n = 2**5\n",
    "max_n = 2**5\n",
    "a_cols = 256\n",
    "fif_version = 2\n",
    "magic_number = b'FIF'  # Ensure this is a bytes object\n",
    "header_format = '3sBiiBBBBB'\n",
    "v_format_precision = \"f\" \n",
    "max_error = 0.1\n",
    "\n",
    "newCodec = ImageCompressor(min_sparcity,\n",
    "                           min_n,\n",
    "                           max_n,\n",
    "                           a_cols,\n",
    "                           fif_version,\n",
    "                           magic_number,\n",
    "                           header_format,\n",
    "                           v_format_precision,\n",
    "                           max_error\n",
    "                          )"
   ]
  },
  {
   "cell_type": "code",
   "execution_count": null,
   "id": "853e407e-f85c-4513-bc76-6ebe213cb724",
   "metadata": {
    "tags": []
   },
   "outputs": [],
   "source": [
    "input_file = 'lena.png'\n",
    "output_file = 'lena_compressed.fif'\n",
    "\n",
    "import warnings\n",
    "\n",
    "with warnings.catch_warnings():\n",
    "    #Following RuntimeWarning ignored:\n",
    "    #Orthogonal matching pursuit ended prematurely due to linear dependence in the dictionary. The requested precision might not have been met.\n",
    "    warnings.simplefilter(\"ignore\", RuntimeWarning)\n",
    "    \n",
    "    #Encode image\n",
    "    newCodec.code(input_file, output_file)"
   ]
  },
  {
   "cell_type": "code",
   "execution_count": null,
   "id": "2a487fa1-ad94-4b7d-8b73-21dc4789756b",
   "metadata": {
    "tags": []
   },
   "outputs": [],
   "source": [
    "input_file = 'lena_compressed.fif'\n",
    "output_file = 'lena_reconstructed.png'\n",
    "newCodec.decode(input_file, output_file)"
   ]
  },
  {
   "cell_type": "code",
   "execution_count": null,
   "id": "970825a9-ab77-48a0-95fb-db7f70aafc7c",
   "metadata": {},
   "outputs": [],
   "source": [
    "from skimage import io, img_as_float\n",
    "from skimage.metrics import structural_similarity as ssim\n",
    "import matplotlib.pyplot as plt\n",
    "path = \"\"\n",
    "image1 = img_as_float(io.imread(path + 'lena.png', as_gray=True))\n",
    "image2 = img_as_float(io.imread('lena_reconstructed.png', as_gray=True))\n",
    "\n",
    "if image1.shape != image2.shape:\n",
    "    raise ValueError(\"Input images must have the same dimensions.\")\n",
    "\n",
    "data_range = image1.max() - image1.min()\n",
    "\n",
    "ssim_index, ssim_image = ssim(image1, image2, full=True, data_range=data_range)\n",
    "\n",
    "print(f\"SSIM Index: {ssim_index}\")\n",
    "\n",
    "plt.imshow(ssim_image, cmap='gray')\n",
    "plt.title('SSIM Map')\n",
    "plt.colorbar()\n",
    "plt.show()"
   ]
  },
  {
   "cell_type": "code",
   "execution_count": null,
   "id": "08e11b33-cdae-438e-b815-d3335fa7b788",
   "metadata": {},
   "outputs": [],
   "source": []
  }
 ],
 "metadata": {
  "kernelspec": {
   "display_name": "Python 3 (ipykernel)",
   "language": "python",
   "name": "python3"
  },
  "language_info": {
   "codemirror_mode": {
    "name": "ipython",
    "version": 3
   },
   "file_extension": ".py",
   "mimetype": "text/x-python",
   "name": "python",
   "nbconvert_exporter": "python",
   "pygments_lexer": "ipython3",
   "version": "3.8.10"
  }
 },
 "nbformat": 4,
 "nbformat_minor": 5
}
